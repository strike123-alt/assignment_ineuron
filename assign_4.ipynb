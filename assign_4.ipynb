{
 "cells": [
  {
   "cell_type": "markdown",
   "id": "3e70dfe0",
   "metadata": {},
   "source": [
    "## 1. What exactly is []?"
   ]
  },
  {
   "cell_type": "code",
   "execution_count": 1,
   "id": "6a37f469",
   "metadata": {},
   "outputs": [],
   "source": [
    "# The empty list value, which is a list value that contains no items. \n",
    "# This is similar to how '' is the empty string value."
   ]
  },
  {
   "cell_type": "markdown",
   "id": "69d6ae59",
   "metadata": {},
   "source": [
    "## 2. In a list of values stored in a variable called spam, how would you assign the value &#39;hello&#39; as the third value? (Assume [2, 4, 6, 8, 10] are in spam.)"
   ]
  },
  {
   "cell_type": "code",
   "execution_count": 2,
   "id": "7d137c7d",
   "metadata": {},
   "outputs": [],
   "source": [
    "spam = [2, 4, 6, 8, 10]"
   ]
  },
  {
   "cell_type": "code",
   "execution_count": 4,
   "id": "c221baf6",
   "metadata": {},
   "outputs": [],
   "source": [
    "spam.insert(2, 'hello')"
   ]
  },
  {
   "cell_type": "code",
   "execution_count": 7,
   "id": "26509cae",
   "metadata": {},
   "outputs": [
    {
     "data": {
      "text/plain": [
       "[2, 4, 'hello', 6, 8, 10]"
      ]
     },
     "execution_count": 7,
     "metadata": {},
     "output_type": "execute_result"
    }
   ],
   "source": [
    "spam"
   ]
  },
  {
   "cell_type": "code",
   "execution_count": 16,
   "id": "429fcd16",
   "metadata": {},
   "outputs": [],
   "source": [
    "spam = ['a', 'b', 'c', 'd']"
   ]
  },
  {
   "cell_type": "markdown",
   "id": "b5784e93",
   "metadata": {},
   "source": [
    "## 3. What is the value of spam[int(int(&#39;3&#39; * 2) / 11)]?"
   ]
  },
  {
   "cell_type": "code",
   "execution_count": 17,
   "id": "350475b1",
   "metadata": {},
   "outputs": [
    {
     "data": {
      "text/plain": [
       "'33'"
      ]
     },
     "execution_count": 17,
     "metadata": {},
     "output_type": "execute_result"
    }
   ],
   "source": [
    "'3' * 2"
   ]
  },
  {
   "cell_type": "code",
   "execution_count": 18,
   "id": "ca50b6ee",
   "metadata": {},
   "outputs": [
    {
     "data": {
      "text/plain": [
       "33"
      ]
     },
     "execution_count": 18,
     "metadata": {},
     "output_type": "execute_result"
    }
   ],
   "source": [
    "int('3'*2)"
   ]
  },
  {
   "cell_type": "code",
   "execution_count": 19,
   "id": "25e79df4",
   "metadata": {},
   "outputs": [
    {
     "data": {
      "text/plain": [
       "3"
      ]
     },
     "execution_count": 19,
     "metadata": {},
     "output_type": "execute_result"
    }
   ],
   "source": [
    "int(33 / 11)"
   ]
  },
  {
   "cell_type": "code",
   "execution_count": 20,
   "id": "25ee73a3",
   "metadata": {},
   "outputs": [
    {
     "data": {
      "text/plain": [
       "'d'"
      ]
     },
     "execution_count": 20,
     "metadata": {},
     "output_type": "execute_result"
    }
   ],
   "source": [
    "spam[3]"
   ]
  },
  {
   "cell_type": "code",
   "execution_count": 21,
   "id": "9f6f363c",
   "metadata": {},
   "outputs": [
    {
     "data": {
      "text/plain": [
       "'d'"
      ]
     },
     "execution_count": 21,
     "metadata": {},
     "output_type": "execute_result"
    }
   ],
   "source": [
    "spam[int(int('3' * 2)/11)]"
   ]
  },
  {
   "cell_type": "markdown",
   "id": "52364535",
   "metadata": {},
   "source": [
    "## 4. What is the value of spam[-1]?"
   ]
  },
  {
   "cell_type": "code",
   "execution_count": 22,
   "id": "08dcf924",
   "metadata": {},
   "outputs": [],
   "source": [
    "# negative index are used in python as well as postive index\n",
    "# but the only different is that negative index start from last element in sequence-objects like list, tuple, set"
   ]
  },
  {
   "cell_type": "markdown",
   "id": "3407758d",
   "metadata": {},
   "source": [
    "## 5. What is the value of spam[:2]?"
   ]
  },
  {
   "cell_type": "code",
   "execution_count": 23,
   "id": "601e1d84",
   "metadata": {},
   "outputs": [
    {
     "data": {
      "text/plain": [
       "['a', 'b']"
      ]
     },
     "execution_count": 23,
     "metadata": {},
     "output_type": "execute_result"
    }
   ],
   "source": [
    "spam[:2]"
   ]
  },
  {
   "cell_type": "code",
   "execution_count": 24,
   "id": "ef9ab946",
   "metadata": {},
   "outputs": [],
   "source": [
    "# it mean it start at 0 and end at 2 exclusive 2"
   ]
  },
  {
   "cell_type": "code",
   "execution_count": 53,
   "id": "d3f2004e",
   "metadata": {},
   "outputs": [],
   "source": [
    "bacon = [3.14, 'cat', 11, 'cat', True]"
   ]
  },
  {
   "cell_type": "markdown",
   "id": "ae68c9f8",
   "metadata": {},
   "source": [
    "## 6. What is the value of bacon.index(&#39;cat&#39;)?"
   ]
  },
  {
   "cell_type": "code",
   "execution_count": 28,
   "id": "73d9a095",
   "metadata": {},
   "outputs": [],
   "source": [
    "#index() return the index of the first occurrences of the value in list if it exist."
   ]
  },
  {
   "cell_type": "code",
   "execution_count": 29,
   "id": "0b985c28",
   "metadata": {},
   "outputs": [
    {
     "data": {
      "text/plain": [
       "1"
      ]
     },
     "execution_count": 29,
     "metadata": {},
     "output_type": "execute_result"
    }
   ],
   "source": [
    "bacon.index('cat')"
   ]
  },
  {
   "cell_type": "markdown",
   "id": "ffc0c89e",
   "metadata": {},
   "source": [
    "## 7. How does bacon.append(99) change the look of the list value in bacon?"
   ]
  },
  {
   "cell_type": "code",
   "execution_count": 30,
   "id": "8222c792",
   "metadata": {},
   "outputs": [],
   "source": [
    "# The bacon list becomes [3.14, 'cat', 11, 'cat', True, 99]"
   ]
  },
  {
   "cell_type": "code",
   "execution_count": 31,
   "id": "cf7cc0ec",
   "metadata": {},
   "outputs": [],
   "source": [
    "bacon.append(99)"
   ]
  },
  {
   "cell_type": "code",
   "execution_count": 32,
   "id": "eba5224d",
   "metadata": {},
   "outputs": [
    {
     "data": {
      "text/plain": [
       "[3.14, 'cat', 11, 'cat', True, 99]"
      ]
     },
     "execution_count": 32,
     "metadata": {},
     "output_type": "execute_result"
    }
   ],
   "source": [
    "bacon"
   ]
  },
  {
   "cell_type": "markdown",
   "id": "5343d040",
   "metadata": {},
   "source": [
    "## 8. How does bacon.remove(&#39;cat&#39;) change the look of the list in bacon?"
   ]
  },
  {
   "cell_type": "code",
   "execution_count": 33,
   "id": "66bf8b46",
   "metadata": {},
   "outputs": [],
   "source": [
    "# The bacon list becomes [3.14, 11, 'cat', True, 99]"
   ]
  },
  {
   "cell_type": "code",
   "execution_count": 34,
   "id": "4822bdb2",
   "metadata": {},
   "outputs": [],
   "source": [
    "bacon.remove('cat')"
   ]
  },
  {
   "cell_type": "code",
   "execution_count": 35,
   "id": "0f0e0e81",
   "metadata": {},
   "outputs": [
    {
     "data": {
      "text/plain": [
       "[3.14, 11, 'cat', True, 99]"
      ]
     },
     "execution_count": 35,
     "metadata": {},
     "output_type": "execute_result"
    }
   ],
   "source": [
    "bacon"
   ]
  },
  {
   "cell_type": "markdown",
   "id": "516c2269",
   "metadata": {},
   "source": [
    "## 9. What are the list concatenation and list replication operators?"
   ]
  },
  {
   "cell_type": "code",
   "execution_count": 36,
   "id": "2bd6a82b",
   "metadata": {},
   "outputs": [
    {
     "data": {
      "text/plain": [
       "[3.14, 11, 'cat', True, 99, 3.14, 11, 'cat', True, 99]"
      ]
     },
     "execution_count": 36,
     "metadata": {},
     "output_type": "execute_result"
    }
   ],
   "source": [
    "bacon + bacon"
   ]
  },
  {
   "cell_type": "code",
   "execution_count": 37,
   "id": "41af2dff",
   "metadata": {},
   "outputs": [
    {
     "data": {
      "text/plain": [
       "[3.14,\n",
       " 11,\n",
       " 'cat',\n",
       " True,\n",
       " 99,\n",
       " 3.14,\n",
       " 11,\n",
       " 'cat',\n",
       " True,\n",
       " 99,\n",
       " 3.14,\n",
       " 11,\n",
       " 'cat',\n",
       " True,\n",
       " 99]"
      ]
     },
     "execution_count": 37,
     "metadata": {},
     "output_type": "execute_result"
    }
   ],
   "source": [
    "bacon * 3"
   ]
  },
  {
   "cell_type": "code",
   "execution_count": 38,
   "id": "29a7f708",
   "metadata": {},
   "outputs": [],
   "source": [
    "#The operator for list concatenation is +, while the operator for replication is *.\n"
   ]
  },
  {
   "cell_type": "markdown",
   "id": "455f36f1",
   "metadata": {},
   "source": [
    "## 10. What is difference between the list methods append() and insert()?"
   ]
  },
  {
   "cell_type": "code",
   "execution_count": 39,
   "id": "08b35cca",
   "metadata": {},
   "outputs": [],
   "source": [
    "#.append() adds an item to the end of a list, whereas .\n",
    "#insert() inserts and item in a specified position in the list."
   ]
  },
  {
   "cell_type": "code",
   "execution_count": 40,
   "id": "976d7a6e",
   "metadata": {},
   "outputs": [],
   "source": [
    "# .append() will add the item you pass as the argument to the function always to the end of the list.\n",
    "# you can specify the position you want to add them with .insert()."
   ]
  },
  {
   "cell_type": "markdown",
   "id": "31680571",
   "metadata": {},
   "source": [
    "## 11. What are the two methods for removing items from a list?"
   ]
  },
  {
   "cell_type": "markdown",
   "id": "a45b98cc",
   "metadata": {},
   "source": [
    "## remove():\tIt helps to remove the very first given element matching from the list.\n",
    "## pop():\tThe pop() method removes an element from the list based on the index given. By Default it remove last element.\n",
    "## clear():\tThe clear() method will remove all the elements present in the list.\n",
    "## del keyword: The del keyword also removes the specified index. The del keyword can also delete the list completely. "
   ]
  },
  {
   "cell_type": "code",
   "execution_count": 41,
   "id": "d361951f",
   "metadata": {},
   "outputs": [],
   "source": [
    "#Eg"
   ]
  },
  {
   "cell_type": "code",
   "execution_count": 55,
   "id": "ac10e1a3",
   "metadata": {},
   "outputs": [],
   "source": [
    "array = [10, 20, 88, 90, 'Paresh', 'Pandya', 80]"
   ]
  },
  {
   "cell_type": "code",
   "execution_count": 56,
   "id": "6afee0c4",
   "metadata": {},
   "outputs": [],
   "source": [
    "array.remove(10)"
   ]
  },
  {
   "cell_type": "code",
   "execution_count": 57,
   "id": "1f4405ba",
   "metadata": {},
   "outputs": [
    {
     "data": {
      "text/plain": [
       "[20, 88, 90, 'Paresh', 'Pandya', 80]"
      ]
     },
     "execution_count": 57,
     "metadata": {},
     "output_type": "execute_result"
    }
   ],
   "source": [
    "array"
   ]
  },
  {
   "cell_type": "code",
   "execution_count": 58,
   "id": "f5b004d1",
   "metadata": {},
   "outputs": [
    {
     "data": {
      "text/plain": [
       "80"
      ]
     },
     "execution_count": 58,
     "metadata": {},
     "output_type": "execute_result"
    }
   ],
   "source": [
    "array.pop()"
   ]
  },
  {
   "cell_type": "code",
   "execution_count": 60,
   "id": "a37e41cb",
   "metadata": {},
   "outputs": [
    {
     "data": {
      "text/plain": [
       "'Paresh'"
      ]
     },
     "execution_count": 60,
     "metadata": {},
     "output_type": "execute_result"
    }
   ],
   "source": [
    "array.pop(array.index('Paresh'))"
   ]
  },
  {
   "cell_type": "code",
   "execution_count": 51,
   "id": "2d51823c",
   "metadata": {},
   "outputs": [],
   "source": [
    "array.clear()"
   ]
  },
  {
   "cell_type": "code",
   "execution_count": 52,
   "id": "ad1706d3",
   "metadata": {},
   "outputs": [
    {
     "data": {
      "text/plain": [
       "[]"
      ]
     },
     "execution_count": 52,
     "metadata": {},
     "output_type": "execute_result"
    }
   ],
   "source": [
    "array"
   ]
  },
  {
   "cell_type": "code",
   "execution_count": 61,
   "id": "751e8357",
   "metadata": {},
   "outputs": [],
   "source": [
    "del array"
   ]
  },
  {
   "cell_type": "markdown",
   "id": "b2a5c59f",
   "metadata": {},
   "source": [
    "## 12. Describe how list values and string values are identical."
   ]
  },
  {
   "cell_type": "code",
   "execution_count": 62,
   "id": "eda46ada",
   "metadata": {},
   "outputs": [],
   "source": [
    "# The similarity between Lists and Strings in Python is that both are sequences. The differences between them are that firstly, Lists are mutable but Strings are immutable. \n",
    "# Secondly, elements of a list can be of different types whereas a String only contains characters that are all of String type."
   ]
  },
  {
   "cell_type": "markdown",
   "id": "cf5c3bab",
   "metadata": {},
   "source": [
    "## 13. What&#39;s the difference between tuples and lists?"
   ]
  },
  {
   "cell_type": "code",
   "execution_count": 64,
   "id": "8b889d08",
   "metadata": {},
   "outputs": [],
   "source": [
    "# 1. Lists are mutable.\tTuples are immutable.\n",
    "# 2\tIteration in lists is time consuming.\tIteration in tuples is faster\n",
    "# 3\tLists are better for insertion and deletion operations\tTuples are appropriate for accessing the elements\n",
    "# 4\tLists consume more memory\tTuples consume lesser memory\n",
    "# 5\tLists have several built-in methods\tTuples have comparatively lesser built-in methods.\n",
    "# 6\tLists are more prone to unexpected errors\tTuples operations are safe and chances of error are very less\n",
    "# 7\tCreating a list is slower because two memory blocks need to be accessed.\tCreating a tuple is faster than creating a list."
   ]
  },
  {
   "cell_type": "markdown",
   "id": "e837406b",
   "metadata": {},
   "source": [
    "## 14. How do you type a tuple value that only contains the integer 42?"
   ]
  },
  {
   "cell_type": "code",
   "execution_count": 70,
   "id": "01bb3e1a",
   "metadata": {},
   "outputs": [],
   "source": [
    "a = 42,\n",
    "# or \n",
    "b = (42)\n",
    "# or\n",
    "c = tuple([42])"
   ]
  },
  {
   "cell_type": "code",
   "execution_count": 72,
   "id": "f17fa9cf",
   "metadata": {},
   "outputs": [
    {
     "data": {
      "text/plain": [
       "((42,), 42, (42,))"
      ]
     },
     "execution_count": 72,
     "metadata": {},
     "output_type": "execute_result"
    }
   ],
   "source": [
    "a, b, c"
   ]
  },
  {
   "cell_type": "markdown",
   "id": "1adee840",
   "metadata": {},
   "source": [
    "## 15. How do you get a list value&#39;s tuple form? How do you get a tuple value&#39;s list form?"
   ]
  },
  {
   "cell_type": "code",
   "execution_count": 73,
   "id": "4478a6f5",
   "metadata": {},
   "outputs": [],
   "source": [
    "arr = [10, 20, 30]"
   ]
  },
  {
   "cell_type": "code",
   "execution_count": 79,
   "id": "c1d74add",
   "metadata": {},
   "outputs": [],
   "source": [
    "a = (arr[0],)"
   ]
  },
  {
   "cell_type": "code",
   "execution_count": 80,
   "id": "b11ac6b3",
   "metadata": {},
   "outputs": [
    {
     "data": {
      "text/plain": [
       "(10,)"
      ]
     },
     "execution_count": 80,
     "metadata": {},
     "output_type": "execute_result"
    }
   ],
   "source": [
    "a"
   ]
  },
  {
   "cell_type": "code",
   "execution_count": 81,
   "id": "1b35d360",
   "metadata": {},
   "outputs": [
    {
     "data": {
      "text/plain": [
       "tuple"
      ]
     },
     "execution_count": 81,
     "metadata": {},
     "output_type": "execute_result"
    }
   ],
   "source": [
    "type(a)"
   ]
  },
  {
   "cell_type": "code",
   "execution_count": 77,
   "id": "9ab28bfa",
   "metadata": {},
   "outputs": [],
   "source": [
    "b = [arr[1]]"
   ]
  },
  {
   "cell_type": "code",
   "execution_count": 78,
   "id": "54636f05",
   "metadata": {},
   "outputs": [
    {
     "data": {
      "text/plain": [
       "[20]"
      ]
     },
     "execution_count": 78,
     "metadata": {},
     "output_type": "execute_result"
    }
   ],
   "source": [
    "b "
   ]
  },
  {
   "cell_type": "code",
   "execution_count": 82,
   "id": "cdcdbb54",
   "metadata": {},
   "outputs": [
    {
     "data": {
      "text/plain": [
       "list"
      ]
     },
     "execution_count": 82,
     "metadata": {},
     "output_type": "execute_result"
    }
   ],
   "source": [
    "type(b)"
   ]
  },
  {
   "cell_type": "markdown",
   "id": "000c7431",
   "metadata": {},
   "source": [
    "## 16. Variables that &quot;contain&quot; list values are not necessarily lists themselves. Instead, what do they contain?"
   ]
  },
  {
   "cell_type": "code",
   "execution_count": 83,
   "id": "65abdf0a",
   "metadata": {},
   "outputs": [],
   "source": [
    "# They contain references to list values."
   ]
  },
  {
   "cell_type": "markdown",
   "id": "4cc25f66",
   "metadata": {},
   "source": [
    "## 17. How do you distinguish between copy.copy() and copy.deepcopy()?"
   ]
  },
  {
   "cell_type": "code",
   "execution_count": 84,
   "id": "4ea9b347",
   "metadata": {},
   "outputs": [],
   "source": [
    "# The copy.copy() function will do a shallow copy of a list, while the copy.\n",
    "# deepcopy() function will do a deep copy of a list. That is, only copy.deepcopy() will duplicate any lists inside the list."
   ]
  }
 ],
 "metadata": {
  "kernelspec": {
   "display_name": "Python 3 (ipykernel)",
   "language": "python",
   "name": "python3"
  },
  "language_info": {
   "codemirror_mode": {
    "name": "ipython",
    "version": 3
   },
   "file_extension": ".py",
   "mimetype": "text/x-python",
   "name": "python",
   "nbconvert_exporter": "python",
   "pygments_lexer": "ipython3",
   "version": "3.9.7"
  }
 },
 "nbformat": 4,
 "nbformat_minor": 5
}
