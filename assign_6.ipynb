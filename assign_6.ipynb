{
 "cells": [
  {
   "cell_type": "markdown",
   "id": "abf2d280",
   "metadata": {},
   "source": [
    "## 1. What are escape characters, and how do you use them?"
   ]
  },
  {
   "cell_type": "markdown",
   "id": "8c1bf835",
   "metadata": {},
   "source": [
    "#### To insert characters that are illegal in a string, use an escape character.\n",
    "#### An escape character is a backslash \\ followed by the character you want to insert."
   ]
  },
  {
   "cell_type": "code",
   "execution_count": 1,
   "id": "bd225237",
   "metadata": {},
   "outputs": [
    {
     "ename": "SyntaxError",
     "evalue": "invalid syntax (Temp/ipykernel_6584/7934146.py, line 1)",
     "output_type": "error",
     "traceback": [
      "\u001b[1;36m  File \u001b[1;32m\"C:\\Users\\lenovo\\AppData\\Local\\Temp/ipykernel_6584/7934146.py\"\u001b[1;36m, line \u001b[1;32m1\u001b[0m\n\u001b[1;33m    txt = \"We are the so-called \"Vikings\" from the north.\"\u001b[0m\n\u001b[1;37m                                 ^\u001b[0m\n\u001b[1;31mSyntaxError\u001b[0m\u001b[1;31m:\u001b[0m invalid syntax\n"
     ]
    }
   ],
   "source": [
    "txt = \"We are the so-called \"Vikings\" from the north.\""
   ]
  },
  {
   "cell_type": "code",
   "execution_count": 48,
   "id": "3985167a",
   "metadata": {},
   "outputs": [
    {
     "data": {
      "text/plain": [
       "\"We are the so-called 'Vikings' from the north.\""
      ]
     },
     "execution_count": 48,
     "metadata": {},
     "output_type": "execute_result"
    }
   ],
   "source": [
    "txt = \"We are the so-called 'Vikings' from the north.\"\n",
    "txt"
   ]
  },
  {
   "cell_type": "code",
   "execution_count": 3,
   "id": "8b0d3242",
   "metadata": {},
   "outputs": [
    {
     "name": "stdout",
     "output_type": "stream",
     "text": [
      "Paresh 'Mahendra' Pandya\n"
     ]
    }
   ],
   "source": [
    "print(\"Paresh \\'Mahendra\\' Pandya\")"
   ]
  },
  {
   "cell_type": "code",
   "execution_count": 5,
   "id": "296ef708",
   "metadata": {},
   "outputs": [
    {
     "name": "stdout",
     "output_type": "stream",
     "text": [
      "Paresh \"Mahendra\" Pandya\n"
     ]
    }
   ],
   "source": [
    "print(\"Paresh \\\"Mahendra\\\" Pandya\")"
   ]
  },
  {
   "cell_type": "code",
   "execution_count": 6,
   "id": "a48549cd",
   "metadata": {},
   "outputs": [],
   "source": [
    "# \\'Single Quote"
   ]
  },
  {
   "cell_type": "code",
   "execution_count": 7,
   "id": "0cde4675",
   "metadata": {},
   "outputs": [
    {
     "name": "stdout",
     "output_type": "stream",
     "text": [
      "Paresh 'Mahendra' Pandya\n"
     ]
    }
   ],
   "source": [
    "print(\"Paresh \\'Mahendra\\' Pandya\")"
   ]
  },
  {
   "cell_type": "code",
   "execution_count": 8,
   "id": "c3c346e9",
   "metadata": {},
   "outputs": [],
   "source": [
    "# \\\\ Backslash"
   ]
  },
  {
   "cell_type": "code",
   "execution_count": 13,
   "id": "1dfd3185",
   "metadata": {},
   "outputs": [
    {
     "name": "stdout",
     "output_type": "stream",
     "text": [
      "There is a Game \\ going on\\\n"
     ]
    }
   ],
   "source": [
    "print('There is a Game \\\\ going on \\\\')"
   ]
  },
  {
   "cell_type": "code",
   "execution_count": 14,
   "id": "1f7ba80f",
   "metadata": {},
   "outputs": [],
   "source": [
    "# \\n New Line"
   ]
  },
  {
   "cell_type": "code",
   "execution_count": 15,
   "id": "bd44d852",
   "metadata": {},
   "outputs": [
    {
     "name": "stdout",
     "output_type": "stream",
     "text": [
      "There is \n",
      " a game\n"
     ]
    }
   ],
   "source": [
    "print('There is \\n a game')"
   ]
  },
  {
   "cell_type": "code",
   "execution_count": 16,
   "id": "e8940801",
   "metadata": {},
   "outputs": [],
   "source": [
    "# \\r Carriage Return"
   ]
  },
  {
   "cell_type": "code",
   "execution_count": null,
   "id": "dd690677",
   "metadata": {},
   "outputs": [],
   "source": [
    "# It helps us move the cursor at the beginning of the line without moving the cursor to the new line."
   ]
  },
  {
   "cell_type": "code",
   "execution_count": 17,
   "id": "4f393d12",
   "metadata": {},
   "outputs": [
    {
     "name": "stdout",
     "output_type": "stream",
     "text": [
      "Python is included in CodeSpeedy\r",
      "123456\n"
     ]
    }
   ],
   "source": [
    "print('Python is included in CodeSpeedy\\r123456')"
   ]
  },
  {
   "cell_type": "code",
   "execution_count": 18,
   "id": "8ad556b4",
   "metadata": {},
   "outputs": [
    {
     "name": "stdout",
     "output_type": "stream",
     "text": [
      "My website is Latracal \r",
      "Solution\n"
     ]
    }
   ],
   "source": [
    "print('My website is Latracal \\rSolution')"
   ]
  },
  {
   "cell_type": "markdown",
   "id": "42bad8d9",
   "metadata": {},
   "source": [
    "Firstly, we have taken an input string as a string.\n",
    "we have applied \\r in between the string.\n",
    "\\r has shifted the cursor to the start, and ‘solution’ contains 8 letters. From the beginning, 8 letters will be erased, and in place of that solution gets printed.\n",
    "You can see the output for better understanding."
   ]
  },
  {
   "cell_type": "code",
   "execution_count": 19,
   "id": "2c87593f",
   "metadata": {},
   "outputs": [],
   "source": [
    "# \\t is used for 8 * space"
   ]
  },
  {
   "cell_type": "code",
   "execution_count": 20,
   "id": "08f62b33",
   "metadata": {},
   "outputs": [
    {
     "name": "stdout",
     "output_type": "stream",
     "text": [
      "Paresh \t Pandya\n"
     ]
    }
   ],
   "source": [
    "print('Paresh \\t Pandya')"
   ]
  },
  {
   "cell_type": "code",
   "execution_count": 21,
   "id": "67c249f1",
   "metadata": {},
   "outputs": [],
   "source": [
    "# \\b Backspace"
   ]
  },
  {
   "cell_type": "code",
   "execution_count": 22,
   "id": "6950a764",
   "metadata": {},
   "outputs": [
    {
     "name": "stdout",
     "output_type": "stream",
     "text": [
      "Paresh\b\n"
     ]
    }
   ],
   "source": [
    "print('Paresh\\b')"
   ]
  },
  {
   "cell_type": "code",
   "execution_count": 23,
   "id": "330506d6",
   "metadata": {},
   "outputs": [],
   "source": [
    "# \\f Form Feed"
   ]
  },
  {
   "cell_type": "markdown",
   "id": "39d6178f",
   "metadata": {},
   "source": [
    "Form feed means advance downward to the next \"page\". It was commonly used as page separators, but now is also used as section separators. "
   ]
  },
  {
   "cell_type": "code",
   "execution_count": 27,
   "id": "a4579ef3",
   "metadata": {},
   "outputs": [
    {
     "name": "stdout",
     "output_type": "stream",
     "text": [
      "Paresh \f",
      " Pandya"
     ]
    }
   ],
   "source": [
    "print('Paresh \\f Pandya', end='')"
   ]
  },
  {
   "cell_type": "code",
   "execution_count": 13,
   "id": "e24b8346",
   "metadata": {},
   "outputs": [],
   "source": [
    "# \\ooo Octal Values and \\xhh hexdecimal values"
   ]
  },
  {
   "cell_type": "code",
   "execution_count": 14,
   "id": "573ea644",
   "metadata": {},
   "outputs": [
    {
     "name": "stdout",
     "output_type": "stream",
     "text": [
      "¸\n"
     ]
    }
   ],
   "source": [
    "print('\\270')"
   ]
  },
  {
   "cell_type": "code",
   "execution_count": 15,
   "id": "ccc5837b",
   "metadata": {},
   "outputs": [
    {
     "data": {
      "text/plain": [
       "'\\xa0'"
      ]
     },
     "execution_count": 15,
     "metadata": {},
     "output_type": "execute_result"
    }
   ],
   "source": [
    "'\\xa0'"
   ]
  },
  {
   "cell_type": "markdown",
   "id": "d88f471f",
   "metadata": {},
   "source": [
    "## 2. What do the escape characters n and t stand for?"
   ]
  },
  {
   "cell_type": "markdown",
   "id": "180bf9b5",
   "metadata": {},
   "source": [
    "### It is used in representing certain whitespace characters: \"\\t\" is a tab, \"\\n\" is a newline\n"
   ]
  },
  {
   "cell_type": "markdown",
   "id": "4515f7eb",
   "metadata": {},
   "source": [
    "## 3. What is the way to include backslash characters in a string?"
   ]
  },
  {
   "cell_type": "code",
   "execution_count": 19,
   "id": "5f26a231",
   "metadata": {},
   "outputs": [
    {
     "name": "stdout",
     "output_type": "stream",
     "text": [
      "Paresh Pandya Home World!\n"
     ]
    }
   ],
   "source": [
    "print(\"Paresh \\\n",
    "Pandya \\\n",
    "Home World!\")"
   ]
  },
  {
   "cell_type": "code",
   "execution_count": 20,
   "id": "62d36886",
   "metadata": {},
   "outputs": [
    {
     "name": "stdout",
     "output_type": "stream",
     "text": [
      "\\\n"
     ]
    }
   ],
   "source": [
    "print('\\\\')"
   ]
  },
  {
   "cell_type": "code",
   "execution_count": 21,
   "id": "c591d3d4",
   "metadata": {},
   "outputs": [],
   "source": [
    "string = \"\\\\ Game \\\\ Studys\""
   ]
  },
  {
   "cell_type": "code",
   "execution_count": 23,
   "id": "3a2a81c1",
   "metadata": {},
   "outputs": [
    {
     "name": "stdout",
     "output_type": "stream",
     "text": [
      "\\Game\\Studys\n"
     ]
    }
   ],
   "source": [
    "print(string)"
   ]
  },
  {
   "cell_type": "markdown",
   "id": "8e404519",
   "metadata": {},
   "source": [
    "## 4. The string &quot;Howl&#39;s Moving Castle&quot; is a correct value. Why isn&#39;t the single quote character in the word Howl&#39;s not escaped a problem?"
   ]
  },
  {
   "cell_type": "markdown",
   "id": "cfba417e",
   "metadata": {},
   "source": [
    "### The single quote in Howl's is fine because you've used double quotes to mark the beginning and end of the string."
   ]
  },
  {
   "cell_type": "code",
   "execution_count": 24,
   "id": "50c57e77",
   "metadata": {},
   "outputs": [
    {
     "data": {
      "text/plain": [
       "\"Howl's Moving Castle\""
      ]
     },
     "execution_count": 24,
     "metadata": {},
     "output_type": "execute_result"
    }
   ],
   "source": [
    "\"Howl's Moving Castle\""
   ]
  },
  {
   "cell_type": "markdown",
   "id": "9cb6ec8e",
   "metadata": {},
   "source": [
    "## 5. How do you write a string of newlines if you don&#39;t want to use the n character?"
   ]
  },
  {
   "cell_type": "code",
   "execution_count": 30,
   "id": "cecfd0ae",
   "metadata": {},
   "outputs": [],
   "source": [
    "string = \"\"\"Paresh \n",
    "Mahendra \n",
    "Pandya\"\"\""
   ]
  },
  {
   "cell_type": "code",
   "execution_count": 31,
   "id": "018f6908",
   "metadata": {},
   "outputs": [
    {
     "name": "stdout",
     "output_type": "stream",
     "text": [
      "Paresh \n",
      "Mahendra \n",
      "Pandya\n"
     ]
    }
   ],
   "source": [
    "print(string)"
   ]
  },
  {
   "cell_type": "markdown",
   "id": "e8e14718",
   "metadata": {},
   "source": [
    "## 6. What are the values of the given expressions?\n",
    "### 1. &#39;Hello, world!&#39;[1]\n",
    "### 2. &#39;Hello, world!&#39;[0:5]\n",
    "### 3. &#39;Hello, world!&#39;[:5]\n",
    "### 4. &#39;Hello, world!&#39;[3:]"
   ]
  },
  {
   "cell_type": "code",
   "execution_count": 36,
   "id": "542d5557",
   "metadata": {},
   "outputs": [
    {
     "data": {
      "text/plain": [
       "'e'"
      ]
     },
     "execution_count": 36,
     "metadata": {},
     "output_type": "execute_result"
    }
   ],
   "source": [
    "#1. e \n",
    "'Hello, world!'[1]"
   ]
  },
  {
   "cell_type": "code",
   "execution_count": 37,
   "id": "0facccd9",
   "metadata": {},
   "outputs": [
    {
     "data": {
      "text/plain": [
       "'Hello'"
      ]
     },
     "execution_count": 37,
     "metadata": {},
     "output_type": "execute_result"
    }
   ],
   "source": [
    "#2 'Hello'\n",
    "'Hello, world!'[0:5]"
   ]
  },
  {
   "cell_type": "code",
   "execution_count": 38,
   "id": "252a9e22",
   "metadata": {},
   "outputs": [
    {
     "data": {
      "text/plain": [
       "'Hello'"
      ]
     },
     "execution_count": 38,
     "metadata": {},
     "output_type": "execute_result"
    }
   ],
   "source": [
    "#3 'Hello'\n",
    "'Hello, world!'[:5]"
   ]
  },
  {
   "cell_type": "code",
   "execution_count": 39,
   "id": "17e48056",
   "metadata": {},
   "outputs": [
    {
     "data": {
      "text/plain": [
       "'lo, world!'"
      ]
     },
     "execution_count": 39,
     "metadata": {},
     "output_type": "execute_result"
    }
   ],
   "source": [
    "#4 'lo, world!'\n",
    "'Hello, world!'[3:]"
   ]
  },
  {
   "cell_type": "markdown",
   "id": "9ac12d9f",
   "metadata": {},
   "source": [
    "## 7. What are the values of the following expressions?\n",
    "### 1. &#39;Hello&#39;.upper()\n",
    "### 2. &#39;Hello&#39;.upper().isupper()\n",
    "### 3. &#39;Hello&#39;.upper().lower()"
   ]
  },
  {
   "cell_type": "code",
   "execution_count": 41,
   "id": "6d2d01c3",
   "metadata": {},
   "outputs": [
    {
     "data": {
      "text/plain": [
       "'HELLO'"
      ]
     },
     "execution_count": 41,
     "metadata": {},
     "output_type": "execute_result"
    }
   ],
   "source": [
    "# 'HELLO'\n",
    "'Hello'.upper()"
   ]
  },
  {
   "cell_type": "code",
   "execution_count": 42,
   "id": "6ce02980",
   "metadata": {},
   "outputs": [
    {
     "data": {
      "text/plain": [
       "True"
      ]
     },
     "execution_count": 42,
     "metadata": {},
     "output_type": "execute_result"
    }
   ],
   "source": [
    "# True\n",
    "'Hello'.upper().isupper()"
   ]
  },
  {
   "cell_type": "code",
   "execution_count": 44,
   "id": "acb137a3",
   "metadata": {},
   "outputs": [
    {
     "data": {
      "text/plain": [
       "'hello'"
      ]
     },
     "execution_count": 44,
     "metadata": {},
     "output_type": "execute_result"
    }
   ],
   "source": [
    "# 'hello'\n",
    "'Hello'.upper().lower()"
   ]
  },
  {
   "cell_type": "code",
   "execution_count": 45,
   "id": "63d2e804",
   "metadata": {},
   "outputs": [],
   "source": [
    "# Performing the .upper() method on a string converts all of the characters to uppercase, \n",
    "# whereas the lower() method converts all of the characters to lowercase"
   ]
  },
  {
   "cell_type": "code",
   "execution_count": 46,
   "id": "dc8d9924",
   "metadata": {},
   "outputs": [],
   "source": [
    "# islower() method checks if all characters in the string are lowercase. "
   ]
  },
  {
   "cell_type": "markdown",
   "id": "2600c5d0",
   "metadata": {},
   "source": [
    "## 8. What are the values of the following expressions?\n",
    "### 1. &#39;Remember, remember, the fifth of July.&#39;.split()\n",
    "### 2. &#39;-&#39;.join(&#39;There can only one.&#39;.split())"
   ]
  },
  {
   "cell_type": "code",
   "execution_count": 50,
   "id": "6331bfa1",
   "metadata": {},
   "outputs": [
    {
     "data": {
      "text/plain": [
       "['Remember,', 'remember,', 'the', 'fifth', 'of', 'July.']"
      ]
     },
     "execution_count": 50,
     "metadata": {},
     "output_type": "execute_result"
    }
   ],
   "source": [
    "# ['Remember,', 'remember,', 'the', 'fifth', 'of', 'July.']\n",
    "'Remember, remember, the fifth of July.'.split()"
   ]
  },
  {
   "cell_type": "markdown",
   "id": "8a8d652a",
   "metadata": {},
   "source": [
    "#### The split() method acts on a string and returns a list of substrings. \n",
    "<br><h4>The syntax is: <string>.split(sep,maxsplit)</h4>\n",
    "<br><h4><string> is any valid Python string,</h4>\n",
    "<br><h4>sep is the separator that you'd like to split on. It should be specified as a string.</h4>\n",
    "<br><h4>For example, if you'd like to split <string> on the occurrence of a comma, you can set sep = \",\".</h4>\n",
    "<br><h4>sep is an optional argument. By default, this method splits strings on whitespaces.</h4>\n",
    "<br><h4>maxsplit is an optional argument indicating the number of times you'd like to split <string>.</h4>\n",
    "<br><h4>maxsplit has a default value of -1, which splits the string on all occurrences of sep.</h4>"
   ]
  },
  {
   "cell_type": "code",
   "execution_count": 51,
   "id": "b53d1ad3",
   "metadata": {},
   "outputs": [
    {
     "data": {
      "text/plain": [
       "'There-can-only-one.'"
      ]
     },
     "execution_count": 51,
     "metadata": {},
     "output_type": "execute_result"
    }
   ],
   "source": [
    "# 'There-can-only-one.\n",
    "'-'.join('There can only one.'.split())"
   ]
  },
  {
   "cell_type": "markdown",
   "id": "d66e6776",
   "metadata": {},
   "source": [
    "<h4><iterable> is any Python iterable containing the substrings, say, a list or a tuple, and</h4>\n",
    "<br><h4><sep> is the separator that you'd like to join the substrings on.</h4>\n",
    "<br><h4>In essence, the join() method joins all items in <iterable> using <sep> as the separator.</h4>"
   ]
  },
  {
   "cell_type": "markdown",
   "id": "39ede9f3",
   "metadata": {},
   "source": [
    "## 9. What are the methods for right-justifying, left-justifying, and centering a string?"
   ]
  },
  {
   "cell_type": "code",
   "execution_count": 55,
   "id": "0723e4dd",
   "metadata": {},
   "outputs": [],
   "source": [
    "# The rjust(), ljust(), and center() string methods, respectively"
   ]
  },
  {
   "cell_type": "code",
   "execution_count": 61,
   "id": "27f994c9",
   "metadata": {},
   "outputs": [
    {
     "data": {
      "text/plain": [
       "'$$$$$$$$$$$$$$$$$$$$$$$$$$$Paresh Pandya'"
      ]
     },
     "execution_count": 61,
     "metadata": {},
     "output_type": "execute_result"
    }
   ],
   "source": [
    "name = 'Paresh Pandya'\n",
    "name.rjust(40, '$')"
   ]
  },
  {
   "cell_type": "code",
   "execution_count": 62,
   "id": "468fb686",
   "metadata": {},
   "outputs": [
    {
     "data": {
      "text/plain": [
       "'Paresh Pandya$$$$$$$$$$$$$$$$$$$$$$$$$$$'"
      ]
     },
     "execution_count": 62,
     "metadata": {},
     "output_type": "execute_result"
    }
   ],
   "source": [
    "name.ljust(40, '$')"
   ]
  },
  {
   "cell_type": "code",
   "execution_count": 63,
   "id": "68358532",
   "metadata": {},
   "outputs": [
    {
     "data": {
      "text/plain": [
       "'$$$$$$$$$$$$$Paresh Pandya$$$$$$$$$$$$$$'"
      ]
     },
     "execution_count": 63,
     "metadata": {},
     "output_type": "execute_result"
    }
   ],
   "source": [
    "name.center(40, '$')"
   ]
  },
  {
   "cell_type": "code",
   "execution_count": 65,
   "id": "437facf9",
   "metadata": {},
   "outputs": [
    {
     "data": {
      "text/plain": [
       "'Paresh Pandya'"
      ]
     },
     "execution_count": 65,
     "metadata": {},
     "output_type": "execute_result"
    }
   ],
   "source": [
    "name.strip('$')"
   ]
  },
  {
   "cell_type": "markdown",
   "id": "afc97c58",
   "metadata": {},
   "source": [
    "## 10. What is the best way to remove whitespace characters from the start or end?"
   ]
  },
  {
   "cell_type": "code",
   "execution_count": 70,
   "id": "d6b859f1",
   "metadata": {},
   "outputs": [
    {
     "data": {
      "text/plain": [
       "'                 Paresh                 '"
      ]
     },
     "execution_count": 70,
     "metadata": {},
     "output_type": "execute_result"
    }
   ],
   "source": [
    "name = \"Paresh\"\n",
    "name = name.center(40, \" \")\n",
    "name"
   ]
  },
  {
   "cell_type": "code",
   "execution_count": 72,
   "id": "d039a3da",
   "metadata": {},
   "outputs": [
    {
     "data": {
      "text/plain": [
       "'Paresh'"
      ]
     },
     "execution_count": 72,
     "metadata": {},
     "output_type": "execute_result"
    }
   ],
   "source": [
    "name.strip(\" \")"
   ]
  },
  {
   "cell_type": "code",
   "execution_count": 73,
   "id": "319a2834",
   "metadata": {},
   "outputs": [],
   "source": [
    "# The strip() method removes any leading (spaces at the beginning) and trailing (spaces at the end) \n",
    "# characters (space is the default leading character to remove)\n",
    "# syntax: string.strip(characters)\n",
    "# characters Optional. A set of characters to remove as leading/trailing characters"
   ]
  }
 ],
 "metadata": {
  "kernelspec": {
   "display_name": "Python 3 (ipykernel)",
   "language": "python",
   "name": "python3"
  },
  "language_info": {
   "codemirror_mode": {
    "name": "ipython",
    "version": 3
   },
   "file_extension": ".py",
   "mimetype": "text/x-python",
   "name": "python",
   "nbconvert_exporter": "python",
   "pygments_lexer": "ipython3",
   "version": "3.9.7"
  }
 },
 "nbformat": 4,
 "nbformat_minor": 5
}
