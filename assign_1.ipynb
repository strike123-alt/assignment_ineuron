{
 "cells": [
  {
   "cell_type": "markdown",
   "id": "eadd6ff0",
   "metadata": {},
   "source": [
    "## 1. In the below elements which of them are values or an expression? eg:- values can be\n",
    "integer or string and expressions will be mathematical operators.\n",
    "##### *\n",
    "#### 'hello'\n",
    "#####  -87.8\n",
    "##### -\n",
    "##### /\n",
    "##### +\n",
    "##### 6"
   ]
  },
  {
   "cell_type": "code",
   "execution_count": 1,
   "id": "f909db3b",
   "metadata": {},
   "outputs": [],
   "source": [
    "#A value is one of the fundamental things — like a letter or a number — that a program manipulates. \n",
    "#The values we have seen so far are 4 (the result when we added 2 + 2), and \"Hello, World!\"."
   ]
  },
  {
   "cell_type": "code",
   "execution_count": 2,
   "id": "984d70d6",
   "metadata": {},
   "outputs": [],
   "source": [
    "#A sequence of operands and operators, like a + b - 5, is called an expression. \n",
    "#Python supports many operators for combining data objects into expressions. "
   ]
  },
  {
   "cell_type": "code",
   "execution_count": 3,
   "id": "7b478ce3",
   "metadata": {},
   "outputs": [],
   "source": [
    "#Therefore for above definitions so,\n",
    "#value: 'hello', -87.8, 6\n",
    "#expression: *, -, /, +"
   ]
  },
  {
   "cell_type": "markdown",
   "id": "277c8005",
   "metadata": {},
   "source": [
    "## 2. What is the difference between string and variable?"
   ]
  },
  {
   "cell_type": "code",
   "execution_count": 4,
   "id": "6ee3d60d",
   "metadata": {},
   "outputs": [],
   "source": [
    "#string: A string is a sequence of one or more characters (letters, numbers, symbols) that can be either a constant or a variable.\n",
    "#Made up of Unicode, \n",
    "#strings are immutable sequences, \n",
    "#meaning they are unchanging.\n",
    "\n",
    "#Because text is such a common form of data that we use in everyday life, the string data type is a very important building block of programming.\n",
    "#Eg: 'Paresh'"
   ]
  },
  {
   "cell_type": "code",
   "execution_count": 5,
   "id": "a84aad25",
   "metadata": {},
   "outputs": [],
   "source": [
    "#Variables are symbols that you can use to store data in a program. You can think of them as an empty box that you fill with some data or value. Strings are data, so we can use them to fill up a variable. \n",
    "#Declaring strings as variables can make it easier for us to work with strings throughout our Python programs.\n",
    "#To store a string inside a variable, we need to assign a variable to a string. In this case let’s declare my_str as our variable:\n",
    "#my_str = \"Sammy likes declaring strings.\""
   ]
  },
  {
   "cell_type": "markdown",
   "id": "902ab1f3",
   "metadata": {},
   "source": [
    "## 3. Describe three different data types.\n"
   ]
  },
  {
   "cell_type": "code",
   "execution_count": 6,
   "id": "c4076355",
   "metadata": {},
   "outputs": [],
   "source": [
    "#Data types are the classification or categorization of data items. \n",
    "#It represents the kind of value that tells what operations can be performed on a particular data. Since everything is an object in Python programming, \n",
    "#data types are actually classes and variables are instance (object) of these classes."
   ]
  },
  {
   "cell_type": "code",
   "execution_count": 7,
   "id": "24d0e4f8",
   "metadata": {},
   "outputs": [],
   "source": [
    "# 1. Integers – This value is represented by int class. It contains positive or negative whole numbers (without fraction or decimal). In Python there is no limit to how long an integer value can be.\n",
    "# 2. Float – This value is represented by float class. It is a real number with floating point representation. It is specified by a decimal point. Optionally, the character e or E followed by a positive or negative integer may be appended to specify scientific notation.\n",
    "# 3. Complex Numbers – Complex number is represented by complex class. It is specified as (real part) + (imaginary part)j. For example – 2+3j\n",
    "# type() function is used to determine the type of data type."
   ]
  },
  {
   "cell_type": "markdown",
   "id": "677748ce",
   "metadata": {},
   "source": [
    "## 4. What is an expression made up of? What do all expressions do?"
   ]
  },
  {
   "cell_type": "code",
   "execution_count": 8,
   "id": "859f0f00",
   "metadata": {},
   "outputs": [],
   "source": [
    "# An expression is a combination of operators and operands that is interpreted to produce some other value. \n",
    "# In any programming language, an expression is evaluated as per the precedence of its operators. \n",
    "# So that if there is more than one operator in an expression, \n",
    "# their precedence decides which operation will be performed first."
   ]
  },
  {
   "cell_type": "code",
   "execution_count": 9,
   "id": "ce141409",
   "metadata": {},
   "outputs": [],
   "source": [
    "#Eg. a + b, a + 8, 9 * 9"
   ]
  },
  {
   "cell_type": "code",
   "execution_count": 10,
   "id": "6295c796",
   "metadata": {},
   "outputs": [],
   "source": [
    "#Python expressions only contain identifiers, literals, and operators.\n",
    "#Identifiers: Any name that is used to define a class, function, variable module, or object is an identifier. Literals: These are language-independent terms in Python and should exist independently in any programming language. In Python, there are the string literals, byte literals, integer literals, floating point literals, and imaginary literals."
   ]
  },
  {
   "cell_type": "markdown",
   "id": "d384e835",
   "metadata": {},
   "source": [
    "## 5. This assignment statements, like spam = 10. What is the difference between an expression and a statement?"
   ]
  },
  {
   "cell_type": "code",
   "execution_count": 11,
   "id": "fac4bafb",
   "metadata": {},
   "outputs": [],
   "source": [
    "#Statements represent an action or command e.g print statements, assignment statements.\n",
    "#print 'hello', x = 1\n",
    "\n",
    "#Expression is a combination of variables, operations and values that yields a result value.\n",
    "# 5 * 5 # yields 25\n",
    "\n",
    "# Lastly, expression statements\n",
    "# print 5*5"
   ]
  },
  {
   "cell_type": "markdown",
   "id": "c023b3d9",
   "metadata": {},
   "source": [
    "## 6. After running the following code, what does the variable bacon contain?\n",
    "## bacon = 22\n",
    "## bacon + 1"
   ]
  },
  {
   "cell_type": "code",
   "execution_count": 2,
   "id": "c13248c5",
   "metadata": {},
   "outputs": [],
   "source": [
    "bacon = 22"
   ]
  },
  {
   "cell_type": "code",
   "execution_count": 3,
   "id": "2e71f1c0",
   "metadata": {},
   "outputs": [
    {
     "data": {
      "text/plain": [
       "23"
      ]
     },
     "execution_count": 3,
     "metadata": {},
     "output_type": "execute_result"
    }
   ],
   "source": [
    "bacon + 1"
   ]
  },
  {
   "cell_type": "code",
   "execution_count": 4,
   "id": "65988301",
   "metadata": {},
   "outputs": [
    {
     "data": {
      "text/plain": [
       "22"
      ]
     },
     "execution_count": 4,
     "metadata": {},
     "output_type": "execute_result"
    }
   ],
   "source": [
    "bacon"
   ]
  },
  {
   "cell_type": "code",
   "execution_count": 5,
   "id": "adf709ee",
   "metadata": {},
   "outputs": [],
   "source": [
    "#because we did not reassign the values back "
   ]
  },
  {
   "cell_type": "markdown",
   "id": "554ef545",
   "metadata": {},
   "source": [
    "## 7. What should the values of the following two terms be?\n",
    "1. 'spam' + 'spamspam'\n",
    "2. 'spam' * 3\n"
   ]
  },
  {
   "cell_type": "code",
   "execution_count": 6,
   "id": "a1bb4089",
   "metadata": {},
   "outputs": [
    {
     "data": {
      "text/plain": [
       "'spamspamspam'"
      ]
     },
     "execution_count": 6,
     "metadata": {},
     "output_type": "execute_result"
    }
   ],
   "source": [
    "#if we use + operator between two string variable (or string literal in this case)\n",
    "#it concatenated both the string\n",
    "'spam' + 'spamspam'"
   ]
  },
  {
   "cell_type": "code",
   "execution_count": 7,
   "id": "49b4835f",
   "metadata": {},
   "outputs": [
    {
     "data": {
      "text/plain": [
       "'spamspamspam'"
      ]
     },
     "execution_count": 7,
     "metadata": {},
     "output_type": "execute_result"
    }
   ],
   "source": [
    "#if we use * operator between two string variable (or string literal in this case\n",
    "#it will output the multiply of the same string follow by the integer\n",
    "'spam' * 3"
   ]
  },
  {
   "cell_type": "code",
   "execution_count": 8,
   "id": "7f6c09cd",
   "metadata": {},
   "outputs": [
    {
     "ename": "TypeError",
     "evalue": "can't multiply sequence by non-int of type 'float'",
     "output_type": "error",
     "traceback": [
      "\u001b[1;31m------------------------------------------------------------------------\u001b[0m",
      "\u001b[1;31mTypeError\u001b[0m                              Traceback (most recent call last)",
      "\u001b[1;32m~\\AppData\\Local\\Temp/ipykernel_20408/2955655664.py\u001b[0m in \u001b[0;36m<module>\u001b[1;34m\u001b[0m\n\u001b[1;32m----> 1\u001b[1;33m \u001b[1;34m'spam'\u001b[0m \u001b[1;33m*\u001b[0m \u001b[1;36m1.5\u001b[0m\u001b[1;33m\u001b[0m\u001b[1;33m\u001b[0m\u001b[0m\n\u001b[0m",
      "\u001b[1;31mTypeError\u001b[0m: can't multiply sequence by non-int of type 'float'"
     ]
    }
   ],
   "source": [
    "'spam' * 1.5"
   ]
  },
  {
   "cell_type": "code",
   "execution_count": 9,
   "id": "1c79dc15",
   "metadata": {},
   "outputs": [
    {
     "data": {
      "text/plain": [
       "'spamspamspamspamspamspamspamspamspamspam'"
      ]
     },
     "execution_count": 9,
     "metadata": {},
     "output_type": "execute_result"
    }
   ],
   "source": [
    "'spam' * 10"
   ]
  },
  {
   "cell_type": "markdown",
   "id": "b9b00465",
   "metadata": {},
   "source": [
    "## 8.Why is eggs a valid variable name while 100 is invalid?"
   ]
  },
  {
   "cell_type": "code",
   "execution_count": 10,
   "id": "548120d1",
   "metadata": {},
   "outputs": [],
   "source": [
    "# Due to Naming Convension\n",
    "#A variable can have a short name (like x and y) or a more descriptive name (age, carname, total_volume).\n",
    "\n",
    "#Rules for Python variables:\n",
    "\n",
    "#A variable name must start with a letter or the underscore character\n",
    "#A variable name cannot start with a number\n",
    "#A variable name can only contain alpha-numeric characters and underscores (A-z, 0-9, and _ )\n",
    "#Variable names are case-sensitive (age, Age and AGE are three different variables)\n"
   ]
  },
  {
   "cell_type": "markdown",
   "id": "2c8bc82c",
   "metadata": {},
   "source": [
    "## 9. What three functions can be used to get the integer, floating-point number, or stringversion of a value?"
   ]
  },
  {
   "cell_type": "code",
   "execution_count": 11,
   "id": "04cef631",
   "metadata": {},
   "outputs": [],
   "source": [
    "#The int(), float(), and str() functions will evaluate to the integer, floating-point number, and string versions of the value passed to them."
   ]
  },
  {
   "cell_type": "markdown",
   "id": "213413ab",
   "metadata": {},
   "source": [
    "## 10. Why does this expression cause an error? How can you fix it?\n",
    "#### 'I have eaten' + 99 + 'burritos.'"
   ]
  },
  {
   "cell_type": "code",
   "execution_count": 12,
   "id": "98d25fa0",
   "metadata": {},
   "outputs": [],
   "source": [
    "#The expression causes an error because 99 is an integer, and only strings can be concatenated to other strings with the + operator. \n",
    "#The correct way is I have eaten ' + str(99) + ' burritos.' or \n",
    "#The correct way is I have eaten ' + '99' + ' burritos.'"
   ]
  },
  {
   "cell_type": "code",
   "execution_count": 14,
   "id": "ddafda5f",
   "metadata": {},
   "outputs": [
    {
     "data": {
      "text/plain": [
       "'I have eaten 99 burritos.'"
      ]
     },
     "execution_count": 14,
     "metadata": {},
     "output_type": "execute_result"
    }
   ],
   "source": [
    "'I have eaten ' + str(99) + ' burritos.'"
   ]
  },
  {
   "cell_type": "code",
   "execution_count": 15,
   "id": "29a899e2",
   "metadata": {},
   "outputs": [],
   "source": [
    "#or"
   ]
  },
  {
   "cell_type": "code",
   "execution_count": 16,
   "id": "36c03233",
   "metadata": {},
   "outputs": [
    {
     "data": {
      "text/plain": [
       "'I have eaten 99 burritos.'"
      ]
     },
     "execution_count": 16,
     "metadata": {},
     "output_type": "execute_result"
    }
   ],
   "source": [
    "'I have eaten ' + '99' + ' burritos.'"
   ]
  },
  {
   "cell_type": "code",
   "execution_count": null,
   "id": "e220b212",
   "metadata": {},
   "outputs": [],
   "source": []
  }
 ],
 "metadata": {
  "kernelspec": {
   "display_name": "Python 3 (ipykernel)",
   "language": "python",
   "name": "python3"
  },
  "language_info": {
   "codemirror_mode": {
    "name": "ipython",
    "version": 3
   },
   "file_extension": ".py",
   "mimetype": "text/x-python",
   "name": "python",
   "nbconvert_exporter": "python",
   "pygments_lexer": "ipython3",
   "version": "3.9.7"
  }
 },
 "nbformat": 4,
 "nbformat_minor": 5
}
