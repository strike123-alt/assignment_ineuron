{
 "cells": [
  {
   "cell_type": "markdown",
   "id": "88620909-69e8-4426-9d07-91e088fd8078",
   "metadata": {},
   "source": [
    "## 1. Why are functions advantageous to have in your programs?"
   ]
  },
  {
   "cell_type": "markdown",
   "id": "3dbc6403-4836-4a5e-a721-b42b8c3ee0dc",
   "metadata": {},
   "source": [
    "#### Functions reduce the need for duplicate code. This makes programs shorter, easier to read, and easier to update."
   ]
  },
  {
   "cell_type": "markdown",
   "id": "abb8f148-e7e4-4f7e-abde-3315775b2865",
   "metadata": {},
   "source": [
    "## 2. When does the code in a function run: when it&#39;s specified or when it&#39;s called?"
   ]
  },
  {
   "cell_type": "markdown",
   "id": "a473e506-5200-4c31-8027-b14b658ba131",
   "metadata": {},
   "source": [
    "#### The code in a function executes when the function is called, not when the function is defined."
   ]
  },
  {
   "cell_type": "code",
   "execution_count": 3,
   "id": "a57ac38e-814f-4c6b-aefa-8e747ac99007",
   "metadata": {},
   "outputs": [],
   "source": [
    "#Eg"
   ]
  },
  {
   "cell_type": "code",
   "execution_count": 7,
   "id": "abee9e54-e61f-4ddb-9eb4-6124cb212e52",
   "metadata": {},
   "outputs": [],
   "source": [
    "def print_nums():\n",
    "    for i in range(0, 10):\n",
    "        print(i)"
   ]
  },
  {
   "cell_type": "code",
   "execution_count": 8,
   "id": "097f1fb5-0d7c-4b39-8058-93a10ab0661b",
   "metadata": {},
   "outputs": [
    {
     "name": "stdout",
     "output_type": "stream",
     "text": [
      "0\n",
      "1\n",
      "2\n",
      "3\n",
      "4\n",
      "5\n",
      "6\n",
      "7\n",
      "8\n",
      "9\n"
     ]
    }
   ],
   "source": [
    "print_nums()"
   ]
  },
  {
   "cell_type": "markdown",
   "id": "5f3e30f8-e65f-4e5e-b089-ed9eac24fc1a",
   "metadata": {},
   "source": [
    "## 3. What statement creates a function?"
   ]
  },
  {
   "cell_type": "markdown",
   "id": "f8afe36d-747d-41b6-bb8f-0512296151b8",
   "metadata": {},
   "source": [
    "#### The def statement defines (that is, creates) a function."
   ]
  },
  {
   "cell_type": "markdown",
   "id": "5ed0d774-8369-4445-ad1c-a73ac0530037",
   "metadata": {},
   "source": [
    "## 4. What is the difference between a function and a function call?"
   ]
  },
  {
   "cell_type": "markdown",
   "id": "367e11cd-9420-417c-8bfe-34be0254b452",
   "metadata": {},
   "source": [
    "#### A function is a block of code that does a particular operation and returns a result. It usually accepts inputs as parameters and returns a result. The parameters are not mandatory."
   ]
  },
  {
   "cell_type": "code",
   "execution_count": 14,
   "id": "0add4c4f-0e78-444a-9d52-39c6eef332f3",
   "metadata": {},
   "outputs": [],
   "source": [
    "#Eg\n",
    "a = lambda *x : sum(list(x))"
   ]
  },
  {
   "cell_type": "markdown",
   "id": "3d1b3397-0204-4802-9786-f84dd74258ef",
   "metadata": {},
   "source": [
    "#### A function call is the code used to pass control to a function and also pass parameter if any."
   ]
  },
  {
   "cell_type": "code",
   "execution_count": 15,
   "id": "a3c76bd3-3c31-45e3-af44-6bd16c794be9",
   "metadata": {},
   "outputs": [
    {
     "data": {
      "text/plain": [
       "85"
      ]
     },
     "execution_count": 15,
     "metadata": {},
     "output_type": "execute_result"
    }
   ],
   "source": [
    "a(10, 20, 25, 30)"
   ]
  },
  {
   "cell_type": "markdown",
   "id": "a82224ff-a50c-4efd-a328-4852a50b0b58",
   "metadata": {},
   "source": [
    "## 5. How many global scopes are there in a Python program? How many local scopes?"
   ]
  },
  {
   "cell_type": "code",
   "execution_count": 16,
   "id": "99d5800a-356c-4354-a63d-b06f54bd5309",
   "metadata": {},
   "outputs": [],
   "source": [
    "# Name references search at most three scopes: local, then global, then built-in.\n",
    "# There's only one global Python scope per program execution. This scope remains in existence until the program terminates and all its names are forgotten.\n",
    "# Whenever you define a variable within a function, its scope lies ONLY within the function. \n",
    "# It is accessible from the point at which it is defined until the end of the function and exists for as long as the function is executing.\n",
    "# The scope of a local class is limited only within the function definition\n",
    "# Therefore as many functions there are."
   ]
  },
  {
   "cell_type": "markdown",
   "id": "2fb6ad01-b998-4748-9081-6046f2b20b25",
   "metadata": {},
   "source": [
    "## 6. What happens to variables in a local scope when the function call returns?"
   ]
  },
  {
   "cell_type": "code",
   "execution_count": 40,
   "id": "f7a3cd25-aa41-4056-b16d-e4be5ff2cb26",
   "metadata": {},
   "outputs": [],
   "source": [
    "def ret_val():\n",
    "    r = list(range(0, 10))\n",
    "    return tuple(r)\n"
   ]
  },
  {
   "cell_type": "code",
   "execution_count": 41,
   "id": "04009bce-9e58-49f6-99cf-a1903e93c758",
   "metadata": {},
   "outputs": [],
   "source": [
    "b = ret_val()"
   ]
  },
  {
   "cell_type": "code",
   "execution_count": 42,
   "id": "b2f6ef09-f1ad-4d77-b8f4-3fbe11d06bc0",
   "metadata": {},
   "outputs": [
    {
     "ename": "NameError",
     "evalue": "name 'r' is not defined",
     "output_type": "error",
     "traceback": [
      "\u001b[1;31m---------------------------------------------------------------------------\u001b[0m",
      "\u001b[1;31mNameError\u001b[0m                                 Traceback (most recent call last)",
      "\u001b[1;32m~\\AppData\\Local\\Temp/ipykernel_15860/1615051761.py\u001b[0m in \u001b[0;36m<module>\u001b[1;34m\u001b[0m\n\u001b[1;32m----> 1\u001b[1;33m \u001b[0mprint\u001b[0m\u001b[1;33m(\u001b[0m\u001b[0mr\u001b[0m\u001b[1;33m)\u001b[0m\u001b[1;33m\u001b[0m\u001b[1;33m\u001b[0m\u001b[0m\n\u001b[0m",
      "\u001b[1;31mNameError\u001b[0m: name 'r' is not defined"
     ]
    }
   ],
   "source": [
    "print(r)"
   ]
  },
  {
   "cell_type": "code",
   "execution_count": 17,
   "id": "5e7ca6bf-602f-41d0-ae69-feaa04b5f5b7",
   "metadata": {},
   "outputs": [],
   "source": [
    "# When the execution of the function terminates (returns), the local variables are destroyed."
   ]
  },
  {
   "cell_type": "markdown",
   "id": "d5a660c8-e4b3-46b9-8078-d2e42c506c06",
   "metadata": {},
   "source": [
    "## 7. What is the concept of a return value? Is it possible to have a return value in an expression?"
   ]
  },
  {
   "cell_type": "code",
   "execution_count": 43,
   "id": "d6cbb265-ece8-4000-96d4-464bf1cc4c4b",
   "metadata": {},
   "outputs": [],
   "source": [
    "# The value that a function returns to the caller is generally known as the function's return value. \n",
    "# All Python functions have a return value, either explicit or implicit."
   ]
  },
  {
   "cell_type": "code",
   "execution_count": 1,
   "id": "3421d384-cce6-419c-9d84-d8a68e2bac57",
   "metadata": {},
   "outputs": [
    {
     "ename": "SyntaxError",
     "evalue": "'return' outside function (Temp/ipykernel_11628/1724810415.py, line 2)",
     "output_type": "error",
     "traceback": [
      "\u001b[1;36m  File \u001b[1;32m\"C:\\Users\\lenovo\\AppData\\Local\\Temp/ipykernel_11628/1724810415.py\"\u001b[1;36m, line \u001b[1;32m2\u001b[0m\n\u001b[1;33m    return x*x\u001b[0m\n\u001b[1;37m    ^\u001b[0m\n\u001b[1;31mSyntaxError\u001b[0m\u001b[1;31m:\u001b[0m 'return' outside function\n"
     ]
    }
   ],
   "source": [
    "x = 3\n",
    "return x*x"
   ]
  },
  {
   "cell_type": "code",
   "execution_count": 2,
   "id": "d814c907-e0b5-44be-8027-07d46e29285b",
   "metadata": {},
   "outputs": [],
   "source": [
    "# Beacuse return cannot use outside the function."
   ]
  },
  {
   "cell_type": "markdown",
   "id": "c84cdc29-0a23-4fcc-8263-f4dbda48358a",
   "metadata": {},
   "source": [
    "## 8. If a function does not have a return statement, what is the return value of a call to that function?"
   ]
  },
  {
   "cell_type": "code",
   "execution_count": 3,
   "id": "bdef6c4b-964c-465b-b23e-d6134d86df05",
   "metadata": {},
   "outputs": [],
   "source": [
    "#if you don't explicitly use a return value in a return statement, or if you totally omit the return statement, \n",
    "#then Python will implicitly return a default value for you. \n",
    "#That default return value will always be None."
   ]
  },
  {
   "cell_type": "markdown",
   "id": "1c6f7767-f330-4da6-83a9-dcbc420970d4",
   "metadata": {},
   "source": [
    "## 9. How do you make a function variable refer to the global variable?"
   ]
  },
  {
   "cell_type": "code",
   "execution_count": 6,
   "id": "442869d2-487c-47bf-ac1d-28978f5cd649",
   "metadata": {},
   "outputs": [],
   "source": [
    "variable = 'Paresh'\n",
    "def main():\n",
    "    global variable\n",
    "    variable = 'Pandya'\n",
    "    print(variable)\n",
    "    "
   ]
  },
  {
   "cell_type": "code",
   "execution_count": 7,
   "id": "7f37119f-4176-4e34-ae26-6f5e7573e194",
   "metadata": {},
   "outputs": [
    {
     "name": "stdout",
     "output_type": "stream",
     "text": [
      "Pandya\n"
     ]
    }
   ],
   "source": [
    "main()"
   ]
  },
  {
   "cell_type": "code",
   "execution_count": 8,
   "id": "ff70d3bd-1103-4863-a807-8b5c385bfdad",
   "metadata": {},
   "outputs": [],
   "source": [
    "# To create a global variable inside a function, \n",
    "#you can use the global keyword."
   ]
  },
  {
   "cell_type": "code",
   "execution_count": 9,
   "id": "10210183-f03b-46f9-b20e-e6be68324df2",
   "metadata": {},
   "outputs": [],
   "source": [
    "# If you use the global keyword, \n",
    "# the variable belongs to the global scope"
   ]
  },
  {
   "cell_type": "code",
   "execution_count": 10,
   "id": "20271c2c-d2b2-4796-a575-101410f94b37",
   "metadata": {},
   "outputs": [],
   "source": [
    "# To change the value of a global variable inside a function, \n",
    "# refer to the variable by using the global keyword"
   ]
  },
  {
   "cell_type": "markdown",
   "id": "ef524457-f459-4202-b093-4b9b47743bce",
   "metadata": {},
   "source": [
    "## 10. What is the data type of None?"
   ]
  },
  {
   "cell_type": "code",
   "execution_count": 11,
   "id": "0bdf2bae-ddfa-4696-8d2a-125a94b615b8",
   "metadata": {},
   "outputs": [],
   "source": [
    "# The None keyword is used to define a null value, \n",
    "# or no value at all. None is not the same as 0, False, \n",
    "# or an empty string. None is a data type of its own (NoneType) and only None can be None."
   ]
  },
  {
   "cell_type": "markdown",
   "id": "1c6c8c28-28d7-4a33-9da0-e7ca037d9771",
   "metadata": {},
   "source": [
    "## 11. What does the sentence import areallyourpetsnamederic do?"
   ]
  },
  {
   "cell_type": "code",
   "execution_count": 12,
   "id": "30ed2e24-1c44-459d-bdb4-c44e3aa3bda1",
   "metadata": {},
   "outputs": [],
   "source": [
    "#That import statement imports a module named areallyourpetsnamederic. \n"
   ]
  },
  {
   "cell_type": "markdown",
   "id": "664e89f4-7e9b-46ee-b3ed-f9757f882b90",
   "metadata": {},
   "source": [
    "## 12. If you had a bacon() feature in a spam module, what would you call it after importing spam?"
   ]
  },
  {
   "cell_type": "code",
   "execution_count": 13,
   "id": "42016d88-eb99-458c-8202-6c964a412058",
   "metadata": {},
   "outputs": [],
   "source": [
    "# This function can be called with spam.bacon()."
   ]
  },
  {
   "cell_type": "markdown",
   "id": "5baa8ccd-da19-4eca-be24-e9cc29f12e82",
   "metadata": {},
   "source": [
    "## 13. What can you do to save a programme from crashing if it encounters an error?"
   ]
  },
  {
   "cell_type": "code",
   "execution_count": 14,
   "id": "abdcbac9-b492-4ffe-9b6a-63bc164d7bf4",
   "metadata": {},
   "outputs": [],
   "source": [
    "# Use try-except-else-finally block "
   ]
  },
  {
   "cell_type": "markdown",
   "id": "0c922509-a77e-4e5f-973c-c332e239cdac",
   "metadata": {},
   "source": [
    "## 14. What is the purpose of the try clause? What is the purpose of the except clause?"
   ]
  },
  {
   "cell_type": "code",
   "execution_count": 15,
   "id": "07fc483c-7b26-4cf7-83ec-737568aa15fb",
   "metadata": {},
   "outputs": [],
   "source": [
    "# The try block lets you test a block of code for errors.\n",
    "\n",
    "# The except block lets you handle the error.\n",
    "\n",
    "# The else block lets you execute code when there is no error.\n",
    "\n",
    "# The finally block lets you execute code, regardless of the result of the try- and except blocks."
   ]
  },
  {
   "cell_type": "code",
   "execution_count": null,
   "id": "31d1369f-fc8e-4dfd-9d13-c578e635525b",
   "metadata": {},
   "outputs": [],
   "source": []
  }
 ],
 "metadata": {
  "kernelspec": {
   "display_name": "Python 3 (ipykernel)",
   "language": "python",
   "name": "python3"
  },
  "language_info": {
   "codemirror_mode": {
    "name": "ipython",
    "version": 3
   },
   "file_extension": ".py",
   "mimetype": "text/x-python",
   "name": "python",
   "nbconvert_exporter": "python",
   "pygments_lexer": "ipython3",
   "version": "3.9.7"
  }
 },
 "nbformat": 4,
 "nbformat_minor": 5
}
