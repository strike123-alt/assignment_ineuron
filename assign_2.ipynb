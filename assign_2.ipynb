{
 "cells": [
  {
   "cell_type": "markdown",
   "id": "5750008f",
   "metadata": {},
   "source": [
    "## 1. What are the two values of the Boolean data type? How do you write them?"
   ]
  },
  {
   "cell_type": "code",
   "execution_count": 1,
   "id": "388f10b2",
   "metadata": {},
   "outputs": [],
   "source": [
    "#In programming you often need to know if an expression is True or False.\n",
    "#You can evaluate any expression in Python, and get one of two answers, True or False"
   ]
  },
  {
   "cell_type": "code",
   "execution_count": 2,
   "id": "073cfb8f",
   "metadata": {},
   "outputs": [],
   "source": [
    "value_of_bool_true = True"
   ]
  },
  {
   "cell_type": "code",
   "execution_count": 3,
   "id": "902cc71c",
   "metadata": {},
   "outputs": [],
   "source": [
    "value_of_bool_false = False"
   ]
  },
  {
   "cell_type": "code",
   "execution_count": 4,
   "id": "ad237aa0",
   "metadata": {},
   "outputs": [
    {
     "data": {
      "text/plain": [
       "True"
      ]
     },
     "execution_count": 4,
     "metadata": {},
     "output_type": "execute_result"
    }
   ],
   "source": [
    "True"
   ]
  },
  {
   "cell_type": "code",
   "execution_count": 5,
   "id": "d82b36c5",
   "metadata": {},
   "outputs": [
    {
     "data": {
      "text/plain": [
       "False"
      ]
     },
     "execution_count": 5,
     "metadata": {},
     "output_type": "execute_result"
    }
   ],
   "source": [
    "False"
   ]
  },
  {
   "cell_type": "markdown",
   "id": "b3e4a2c2",
   "metadata": {},
   "source": [
    "## 2. What are the three different types of Boolean operators?"
   ]
  },
  {
   "cell_type": "code",
   "execution_count": 6,
   "id": "61701d1f",
   "metadata": {},
   "outputs": [],
   "source": [
    "#The three basic boolean operators are: AND, OR, and NOT."
   ]
  },
  {
   "cell_type": "markdown",
   "id": "97852b6f",
   "metadata": {},
   "source": [
    "## 3. Make a list of each Boolean operator\\'s truth tables (i.e. every possible combination of Boolean values for the operator and what it evaluate )."
   ]
  },
  {
   "cell_type": "code",
   "execution_count": null,
   "id": "b3b966e1",
   "metadata": {},
   "outputs": [],
   "source": [
    "#AND"
   ]
  },
  {
   "cell_type": "code",
   "execution_count": 7,
   "id": "eaa1b681",
   "metadata": {},
   "outputs": [
    {
     "data": {
      "text/plain": [
       "True"
      ]
     },
     "execution_count": 7,
     "metadata": {},
     "output_type": "execute_result"
    }
   ],
   "source": [
    "True and True"
   ]
  },
  {
   "cell_type": "code",
   "execution_count": 8,
   "id": "2009c25c",
   "metadata": {},
   "outputs": [
    {
     "data": {
      "text/plain": [
       "False"
      ]
     },
     "execution_count": 8,
     "metadata": {},
     "output_type": "execute_result"
    }
   ],
   "source": [
    "True and False"
   ]
  },
  {
   "cell_type": "code",
   "execution_count": 9,
   "id": "48ccae02",
   "metadata": {},
   "outputs": [
    {
     "data": {
      "text/plain": [
       "False"
      ]
     },
     "execution_count": 9,
     "metadata": {},
     "output_type": "execute_result"
    }
   ],
   "source": [
    "False and True "
   ]
  },
  {
   "cell_type": "code",
   "execution_count": 10,
   "id": "3e8c95be",
   "metadata": {},
   "outputs": [
    {
     "data": {
      "text/plain": [
       "False"
      ]
     },
     "execution_count": 10,
     "metadata": {},
     "output_type": "execute_result"
    }
   ],
   "source": [
    "False and False"
   ]
  },
  {
   "cell_type": "code",
   "execution_count": 11,
   "id": "32e1831e",
   "metadata": {},
   "outputs": [],
   "source": [
    "#OR"
   ]
  },
  {
   "cell_type": "code",
   "execution_count": 13,
   "id": "9151264f",
   "metadata": {},
   "outputs": [
    {
     "data": {
      "text/plain": [
       "True"
      ]
     },
     "execution_count": 13,
     "metadata": {},
     "output_type": "execute_result"
    }
   ],
   "source": [
    "True or True"
   ]
  },
  {
   "cell_type": "code",
   "execution_count": 14,
   "id": "32df2bc1",
   "metadata": {},
   "outputs": [
    {
     "data": {
      "text/plain": [
       "True"
      ]
     },
     "execution_count": 14,
     "metadata": {},
     "output_type": "execute_result"
    }
   ],
   "source": [
    "True or False"
   ]
  },
  {
   "cell_type": "code",
   "execution_count": 15,
   "id": "eb4a5f7e",
   "metadata": {},
   "outputs": [
    {
     "data": {
      "text/plain": [
       "True"
      ]
     },
     "execution_count": 15,
     "metadata": {},
     "output_type": "execute_result"
    }
   ],
   "source": [
    "False or True"
   ]
  },
  {
   "cell_type": "code",
   "execution_count": 16,
   "id": "cd4da1df",
   "metadata": {},
   "outputs": [
    {
     "data": {
      "text/plain": [
       "False"
      ]
     },
     "execution_count": 16,
     "metadata": {},
     "output_type": "execute_result"
    }
   ],
   "source": [
    "False or False"
   ]
  },
  {
   "cell_type": "code",
   "execution_count": 17,
   "id": "f0640be1",
   "metadata": {},
   "outputs": [],
   "source": [
    "#NOT"
   ]
  },
  {
   "cell_type": "markdown",
   "id": "f833027a",
   "metadata": {},
   "source": [
    "not True"
   ]
  },
  {
   "cell_type": "code",
   "execution_count": 19,
   "id": "3eea6328",
   "metadata": {},
   "outputs": [
    {
     "data": {
      "text/plain": [
       "True"
      ]
     },
     "execution_count": 19,
     "metadata": {},
     "output_type": "execute_result"
    }
   ],
   "source": [
    "not False"
   ]
  },
  {
   "cell_type": "markdown",
   "id": "cf6d42e6",
   "metadata": {},
   "source": [
    "## 4. What are the values of the following expressions?\n",
    "### 1. (5 > 4) and (3==5)\n",
    "### 2. not (5 > 4)\n",
    "### 3. (5 > 4) or (3==5)\n",
    "### 4. not ((5>4) or (3==5))\n",
    "### 5. (True and True) and (True == False)\n",
    "### 6. (not False) or (not True)"
   ]
  },
  {
   "cell_type": "code",
   "execution_count": 20,
   "id": "1b880eb6",
   "metadata": {},
   "outputs": [
    {
     "data": {
      "text/plain": [
       "False"
      ]
     },
     "execution_count": 20,
     "metadata": {},
     "output_type": "execute_result"
    }
   ],
   "source": [
    "(5 > 4) and (3==5)"
   ]
  },
  {
   "cell_type": "code",
   "execution_count": 1,
   "id": "45fba545",
   "metadata": {},
   "outputs": [],
   "source": [
    "#because 5 is larger than 4 return True and 3 is equal to 5 return False, Therefore True and False is False"
   ]
  },
  {
   "cell_type": "code",
   "execution_count": 2,
   "id": "a2deaea2",
   "metadata": {},
   "outputs": [
    {
     "data": {
      "text/plain": [
       "False"
      ]
     },
     "execution_count": 2,
     "metadata": {},
     "output_type": "execute_result"
    }
   ],
   "source": [
    "not (5 > 4)"
   ]
  },
  {
   "cell_type": "code",
   "execution_count": 3,
   "id": "9bfbd4fd",
   "metadata": {},
   "outputs": [],
   "source": [
    "#because expression 5 > 4 result True and not operator is used after it. Therefore it become False."
   ]
  },
  {
   "cell_type": "code",
   "execution_count": 4,
   "id": "674650be",
   "metadata": {},
   "outputs": [
    {
     "data": {
      "text/plain": [
       "True"
      ]
     },
     "execution_count": 4,
     "metadata": {},
     "output_type": "execute_result"
    }
   ],
   "source": [
    "(5 > 4) or (3==5)"
   ]
  },
  {
   "cell_type": "code",
   "execution_count": 5,
   "id": "e3a8f871",
   "metadata": {},
   "outputs": [],
   "source": [
    "#5 is greater than 4 return True and 3==5 return false, \n",
    "#or operator return True if any value return True else False. "
   ]
  },
  {
   "cell_type": "code",
   "execution_count": 6,
   "id": "bac648cd",
   "metadata": {},
   "outputs": [
    {
     "data": {
      "text/plain": [
       "False"
      ]
     },
     "execution_count": 6,
     "metadata": {},
     "output_type": "execute_result"
    }
   ],
   "source": [
    "not ((5>4) or (3==5))"
   ]
  },
  {
   "cell_type": "code",
   "execution_count": 7,
   "id": "e55627d9",
   "metadata": {},
   "outputs": [],
   "source": [
    "#5 is greater than 4 return True and 3==5 return false, \n",
    "#or operator return True if any value return True else False. \n",
    "#not operator turn True to False to False to True\n",
    "#Therefore, True to False."
   ]
  },
  {
   "cell_type": "code",
   "execution_count": 8,
   "id": "5fe86a6b",
   "metadata": {},
   "outputs": [
    {
     "data": {
      "text/plain": [
       "False"
      ]
     },
     "execution_count": 8,
     "metadata": {},
     "output_type": "execute_result"
    }
   ],
   "source": [
    "(True and True) and (True == False)"
   ]
  },
  {
   "cell_type": "code",
   "execution_count": 12,
   "id": "5fafbfbf",
   "metadata": {},
   "outputs": [],
   "source": [
    "a = True and True"
   ]
  },
  {
   "cell_type": "code",
   "execution_count": 13,
   "id": "b8a6be26",
   "metadata": {},
   "outputs": [],
   "source": [
    "b = True == False"
   ]
  },
  {
   "cell_type": "code",
   "execution_count": 14,
   "id": "7bd7a869",
   "metadata": {},
   "outputs": [
    {
     "data": {
      "text/plain": [
       "False"
      ]
     },
     "execution_count": 14,
     "metadata": {},
     "output_type": "execute_result"
    }
   ],
   "source": [
    "a and b"
   ]
  },
  {
   "cell_type": "code",
   "execution_count": 15,
   "id": "1d9099cd",
   "metadata": {},
   "outputs": [],
   "source": [
    "# a return True and b return False, Therefore and operator return False."
   ]
  },
  {
   "cell_type": "code",
   "execution_count": 16,
   "id": "80392c8d",
   "metadata": {},
   "outputs": [
    {
     "data": {
      "text/plain": [
       "True"
      ]
     },
     "execution_count": 16,
     "metadata": {},
     "output_type": "execute_result"
    }
   ],
   "source": [
    "(not False) or (not True)"
   ]
  },
  {
   "cell_type": "code",
   "execution_count": 17,
   "id": "f929b62b",
   "metadata": {},
   "outputs": [],
   "source": [
    "a = not False"
   ]
  },
  {
   "cell_type": "code",
   "execution_count": 18,
   "id": "3d70adac",
   "metadata": {},
   "outputs": [],
   "source": [
    "b = not True"
   ]
  },
  {
   "cell_type": "code",
   "execution_count": 19,
   "id": "bda7937e",
   "metadata": {},
   "outputs": [],
   "source": [
    "#a return True and b return False"
   ]
  },
  {
   "cell_type": "code",
   "execution_count": 20,
   "id": "6f5788f4",
   "metadata": {},
   "outputs": [
    {
     "data": {
      "text/plain": [
       "True"
      ]
     },
     "execution_count": 20,
     "metadata": {},
     "output_type": "execute_result"
    }
   ],
   "source": [
    "a or b"
   ]
  },
  {
   "cell_type": "code",
   "execution_count": 21,
   "id": "b27c37a6",
   "metadata": {},
   "outputs": [],
   "source": [
    "#because a return True and b return False\n",
    "#or return True"
   ]
  },
  {
   "cell_type": "markdown",
   "id": "d7d756ea",
   "metadata": {},
   "source": [
    "## 5. What are the six comparison operators?"
   ]
  },
  {
   "cell_type": "code",
   "execution_count": 22,
   "id": "bee06e17",
   "metadata": {},
   "outputs": [],
   "source": [
    "# == Equal x == y\n",
    "# != Not equal x != y\n",
    "# > Greater than x > y\n",
    "# < Less than x < y\n",
    "# >= Greater than or equal to x >= y \n",
    "# <= Less than or equal to x <= y"
   ]
  },
  {
   "cell_type": "markdown",
   "id": "d250d6c2",
   "metadata": {},
   "source": [
    "## 6. How do you tell the difference between the equal to and assignment operators?Describe a condition and when you would use one."
   ]
  },
  {
   "cell_type": "markdown",
   "id": "e34df4e2",
   "metadata": {},
   "source": [
    "#### The “=” is an assignment operator is used to assign the value on the right to the variable on the left."
   ]
  },
  {
   "cell_type": "code",
   "execution_count": 23,
   "id": "865c0be8",
   "metadata": {},
   "outputs": [],
   "source": [
    "#For example:\n",
    "\n",
    "a = 10;\n",
    "b = 20;\n",
    "ch = 'y';"
   ]
  },
  {
   "cell_type": "markdown",
   "id": "bbb776f2",
   "metadata": {},
   "source": [
    "#### The ‘==’ operator checks whether the two given operands are equal or not. If so, it returns true. Otherwise it returns false."
   ]
  },
  {
   "cell_type": "code",
   "execution_count": 24,
   "id": "fa3771db",
   "metadata": {},
   "outputs": [
    {
     "data": {
      "text/plain": [
       "True"
      ]
     },
     "execution_count": 24,
     "metadata": {},
     "output_type": "execute_result"
    }
   ],
   "source": [
    "5==5"
   ]
  },
  {
   "cell_type": "markdown",
   "id": "a90674ef",
   "metadata": {},
   "source": [
    "#### 7. Identify the three blocks in this code:\n",
    "#### spam = 0\n",
    "#### if spam == 10:\n",
    "#### print(&#39;eggs&#39;)\n",
    "#### if spam &gt; 5:\n",
    "#### print(&#39;bacon&#39;)\n",
    "#### else:\n",
    "#### print(&#39;ham&#39;)\n",
    "#### print(&#39;spam&#39;)\n",
    "#### print(&#39;spam&#39;)"
   ]
  },
  {
   "cell_type": "code",
   "execution_count": 25,
   "id": "d607b6f8",
   "metadata": {},
   "outputs": [
    {
     "name": "stdout",
     "output_type": "stream",
     "text": [
      "ham\n",
      "spam\n",
      "spam\n"
     ]
    }
   ],
   "source": [
    "spam = 0\n",
    "#First Block\n",
    "if spam == 10:\n",
    "    print('eggs')\n",
    "#Second Block\n",
    "if spam > 5:\n",
    "    print('bacon')\n",
    "#Third Block\n",
    "else:\n",
    "    print('ham')\n",
    "    print('spam')\n",
    "    print('spam')"
   ]
  },
  {
   "cell_type": "markdown",
   "id": "a75eb31f",
   "metadata": {},
   "source": [
    "### 8. Write code that prints Hello if 1 is stored in spam, prints Howdy if 2 is stored in spam, and prints Greetings! if anything else is stored in spam."
   ]
  },
  {
   "cell_type": "code",
   "execution_count": 29,
   "id": "232d6b43",
   "metadata": {},
   "outputs": [
    {
     "name": "stdout",
     "output_type": "stream",
     "text": [
      "Howdy\n"
     ]
    }
   ],
   "source": [
    "spam = 2\n",
    "if spam == 1:\n",
    "    print('Hello')\n",
    "elif spam == 2:\n",
    "    print('Howdy')\n",
    "else:\n",
    "    print('Greetings!')"
   ]
  },
  {
   "cell_type": "markdown",
   "id": "205b1b91",
   "metadata": {},
   "source": [
    "### 9. If your programme is stuck in an endless loop, what keys you’ll press?"
   ]
  },
  {
   "cell_type": "code",
   "execution_count": 30,
   "id": "fd24b227",
   "metadata": {},
   "outputs": [],
   "source": [
    "#Ctrl + C"
   ]
  },
  {
   "cell_type": "markdown",
   "id": "a0323d4b",
   "metadata": {},
   "source": [
    "### 10. How can you tell the difference between break and continue?"
   ]
  },
  {
   "cell_type": "markdown",
   "id": "5ab6f25a",
   "metadata": {},
   "source": [
    "#### Break Statement"
   ]
  },
  {
   "cell_type": "code",
   "execution_count": null,
   "id": "d632c81f",
   "metadata": {},
   "outputs": [],
   "source": [
    "# The Break statement is used to exit from the loop constructs."
   ]
  },
  {
   "cell_type": "code",
   "execution_count": null,
   "id": "b0b22f3f",
   "metadata": {},
   "outputs": [],
   "source": [
    "# The break statement is usually used with the switch statement, and it can also use it within the while loop, do-while loop, or the for-loop."
   ]
  },
  {
   "cell_type": "code",
   "execution_count": null,
   "id": "2e5192bf",
   "metadata": {},
   "outputs": [],
   "source": [
    "# When a break statement is encountered then the control is exited from the loop construct immediately."
   ]
  },
  {
   "cell_type": "code",
   "execution_count": null,
   "id": "c4ce85a9",
   "metadata": {},
   "outputs": [],
   "source": [
    "#Syntax: break"
   ]
  },
  {
   "cell_type": "markdown",
   "id": "702e6d47",
   "metadata": {},
   "source": [
    "#### Continue Statement"
   ]
  },
  {
   "cell_type": "code",
   "execution_count": null,
   "id": "233f41ed",
   "metadata": {},
   "outputs": [],
   "source": [
    "# The continue statement is not used to exit from the loop constructs."
   ]
  },
  {
   "cell_type": "code",
   "execution_count": null,
   "id": "3da5a980",
   "metadata": {},
   "outputs": [],
   "source": [
    "# The continue statement is not used with the switch statement, but it can be used within the while loop, do-while loop, or for-loop."
   ]
  },
  {
   "cell_type": "code",
   "execution_count": null,
   "id": "414091c5",
   "metadata": {},
   "outputs": [],
   "source": [
    "# When the continue statement is encountered then the control automatically passed from the beginning of the loop statement."
   ]
  },
  {
   "cell_type": "code",
   "execution_count": null,
   "id": "e65258a5",
   "metadata": {},
   "outputs": [],
   "source": [
    "#Syntax: continue"
   ]
  },
  {
   "cell_type": "markdown",
   "id": "274c1060",
   "metadata": {},
   "source": [
    "### 11. In a for loop, what is the difference between range(10), range(0, 10), and range(0, 10, 1)?"
   ]
  },
  {
   "cell_type": "code",
   "execution_count": 1,
   "id": "e3a4164f",
   "metadata": {},
   "outputs": [],
   "source": [
    "#All are same"
   ]
  },
  {
   "cell_type": "code",
   "execution_count": 3,
   "id": "c80f96ac",
   "metadata": {},
   "outputs": [
    {
     "name": "stdout",
     "output_type": "stream",
     "text": [
      "0\n",
      "1\n",
      "2\n",
      "3\n",
      "4\n",
      "5\n",
      "6\n",
      "7\n",
      "8\n",
      "9\n"
     ]
    }
   ],
   "source": [
    "for i in range(10):\n",
    "    print(i)"
   ]
  },
  {
   "cell_type": "code",
   "execution_count": 2,
   "id": "2d14571c",
   "metadata": {},
   "outputs": [
    {
     "name": "stdout",
     "output_type": "stream",
     "text": [
      "0\n",
      "1\n",
      "2\n",
      "3\n",
      "4\n",
      "5\n",
      "6\n",
      "7\n",
      "8\n",
      "9\n"
     ]
    }
   ],
   "source": [
    "for i in range(0, 10):\n",
    "    print(i)"
   ]
  },
  {
   "cell_type": "code",
   "execution_count": 4,
   "id": "da482dcb",
   "metadata": {},
   "outputs": [
    {
     "name": "stdout",
     "output_type": "stream",
     "text": [
      "0\n",
      "1\n",
      "2\n",
      "3\n",
      "4\n",
      "5\n",
      "6\n",
      "7\n",
      "8\n",
      "9\n"
     ]
    }
   ],
   "source": [
    "for i in range(0, 10, 1):\n",
    "    print(i)"
   ]
  },
  {
   "cell_type": "markdown",
   "id": "4af3d583",
   "metadata": {},
   "source": [
    "### 12. Write a short program that prints the numbers 1 to 10 using a for loop. Then write an equivalent program that prints the numbers 1 to 10 using a while loop."
   ]
  },
  {
   "cell_type": "code",
   "execution_count": 5,
   "id": "2e0bb036",
   "metadata": {},
   "outputs": [
    {
     "name": "stdout",
     "output_type": "stream",
     "text": [
      "1\n",
      "2\n",
      "3\n",
      "4\n",
      "5\n",
      "6\n",
      "7\n",
      "8\n",
      "9\n",
      "10\n"
     ]
    }
   ],
   "source": [
    "for i in range(1, 11):\n",
    "    print(i)"
   ]
  },
  {
   "cell_type": "code",
   "execution_count": 8,
   "id": "47f7a6ae",
   "metadata": {},
   "outputs": [
    {
     "name": "stdout",
     "output_type": "stream",
     "text": [
      "1\n",
      "2\n",
      "3\n",
      "4\n",
      "5\n",
      "6\n",
      "7\n",
      "8\n",
      "9\n",
      "10\n"
     ]
    }
   ],
   "source": [
    "i = 1\n",
    "while(i <= 10):\n",
    "    print(i)\n",
    "    i += 1"
   ]
  },
  {
   "cell_type": "markdown",
   "id": "e2c8b5a1",
   "metadata": {},
   "source": [
    "### 13. If you had a function named bacon() inside a module named spam, how would you call it after importing spam?"
   ]
  },
  {
   "cell_type": "markdown",
   "id": "92138702",
   "metadata": {},
   "source": [
    "#### This function can be called using spam.bacon()"
   ]
  }
 ],
 "metadata": {
  "kernelspec": {
   "display_name": "Python 3 (ipykernel)",
   "language": "python",
   "name": "python3"
  },
  "language_info": {
   "codemirror_mode": {
    "name": "ipython",
    "version": 3
   },
   "file_extension": ".py",
   "mimetype": "text/x-python",
   "name": "python",
   "nbconvert_exporter": "python",
   "pygments_lexer": "ipython3",
   "version": "3.9.7"
  }
 },
 "nbformat": 4,
 "nbformat_minor": 5
}
